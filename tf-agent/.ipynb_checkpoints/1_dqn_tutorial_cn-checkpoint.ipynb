{
 "cells": [
  {
   "cell_type": "markdown",
   "metadata": {},
   "source": [
    "##### Copyright 2018 The TF-Agents Authors."
   ]
  },
  {
   "cell_type": "code",
   "execution_count": 1,
   "metadata": {},
   "outputs": [],
   "source": [
    "#@title Licensed under the Apache License, Version 2.0 (the \"License\");\n",
    "# you may not use this file except in compliance with the License.\n",
    "# You may obtain a copy of the License at\n",
    "#\n",
    "# https://www.apache.org/licenses/LICENSE-2.0\n",
    "#\n",
    "# Unless required by applicable law or agreed to in writing, software\n",
    "# distributed under the License is distributed on an \"AS IS\" BASIS,\n",
    "# WITHOUT WARRANTIES OR CONDITIONS OF ANY KIND, either express or implied.\n",
    "# See the License for the specific language governing permissions and\n",
    "# limitations under the License."
   ]
  },
  {
   "cell_type": "markdown",
   "metadata": {},
   "source": [
    "# Train a Deep Q Network with TF-Agents"
   ]
  },
  {
   "cell_type": "markdown",
   "metadata": {},
   "source": [
    "### 开始\n",
    "<table class=\"tfo-notebook-buttons\" align=\"left\">\n",
    "  <td>\n",
    "    <a target=\"_blank\" href=\"https://colab.research.google.com/github/tensorflow/agents/blob/master/tf_agents/colabs/1_dqn_tutorial.ipynb\"><img src=\"https://www.tensorflow.org/images/colab_logo_32px.png\" />Run in Google Colab</a>\n",
    "  </td>\n",
    "  <td>\n",
    "    <a target=\"_blank\" href=\"https://github.com/tensorflow/agents/blob/master/tf_agents/colabs/1_dqn_tutorial.ipynb\"><img src=\"https://www.tensorflow.org/images/GitHub-Mark-32px.png\" />View source on GitHub</a>\n",
    "  </td>\n",
    "</table>"
   ]
  },
  {
   "cell_type": "markdown",
   "metadata": {},
   "source": [
    "这个例子将展示使用TF-Agents库训练一个 [DQN (Deep Q Networks)](https://storage.googleapis.com/deepmind-media/dqn/DQNNaturePaper.pdf)  的代理来应用于Cartpole环境的问题。\n",
    "![Cartpole environment](https://raw.githubusercontent.com/tensorflow/agents/master/tf_agents/colabs/images/cartpole.png)\n",
    "\n",
    "它将带您浏览增强学习(RL)管道中用于训练、评估和数据收集的所有细节。\n",
    "\n",
    "要实时运行此代码，请单击上面的' Run in Google Colab'链接。"
   ]
  },
  {
   "cell_type": "markdown",
   "metadata": {},
   "source": [
    "## 安装"
   ]
  },
  {
   "cell_type": "code",
   "execution_count": 4,
   "metadata": {},
   "outputs": [
    {
     "name": "stdout",
     "output_type": "stream",
     "text": [
      "/bin/sh: apt-get: command not found\n",
      "Requirement already satisfied: gym in /Users/liangqy/anaconda3/lib/python3.7/site-packages (0.15.4)\n",
      "Requirement already satisfied: cloudpickle~=1.2.0 in /Users/liangqy/anaconda3/lib/python3.7/site-packages (from gym) (1.2.2)\n",
      "Requirement already satisfied: scipy in /Users/liangqy/anaconda3/lib/python3.7/site-packages (from gym) (1.1.0)\n",
      "Requirement already satisfied: numpy>=1.10.4 in /Users/liangqy/anaconda3/lib/python3.7/site-packages (from gym) (1.17.3)\n",
      "Requirement already satisfied: opencv-python in /Users/liangqy/anaconda3/lib/python3.7/site-packages (from gym) (4.1.2.30)\n",
      "Requirement already satisfied: six in /Users/liangqy/anaconda3/lib/python3.7/site-packages (from gym) (1.11.0)\n",
      "Collecting pyglet<=1.3.2,>=1.2.0\n",
      "  Using cached https://files.pythonhosted.org/packages/1c/fc/dad5eaaab68f0c21e2f906a94ddb98175662cc5a654eee404d59554ce0fa/pyglet-1.3.2-py2.py3-none-any.whl\n",
      "Requirement already satisfied: future in /Users/liangqy/anaconda3/lib/python3.7/site-packages (from pyglet<=1.3.2,>=1.2.0->gym) (0.18.1)\n",
      "Installing collected packages: pyglet\n",
      "  Found existing installation: pyglet 1.4.8\n",
      "    Uninstalling pyglet-1.4.8:\n",
      "      Successfully uninstalled pyglet-1.4.8\n",
      "Successfully installed pyglet-1.3.2\n",
      "Requirement already satisfied: imageio in /Users/liangqy/anaconda3/lib/python3.7/site-packages (2.4.1)\n",
      "Requirement already satisfied: PILLOW in /Users/liangqy/anaconda3/lib/python3.7/site-packages (5.2.0)\n",
      "Requirement already satisfied: pyglet in /Users/liangqy/anaconda3/lib/python3.7/site-packages (1.3.2)\n",
      "Requirement already satisfied: future in /Users/liangqy/anaconda3/lib/python3.7/site-packages (from pyglet) (0.18.1)\n",
      "Requirement already satisfied: pyvirtualdisplay in /Users/liangqy/anaconda3/lib/python3.7/site-packages (0.2.4)\n",
      "Requirement already satisfied: EasyProcess in /Users/liangqy/anaconda3/lib/python3.7/site-packages (from pyvirtualdisplay) (0.2.7)\n",
      "Requirement already satisfied: tf-agents-nightly in /Users/liangqy/.local/lib/python3.7/site-packages (0.2.0.dev20191129)\n",
      "Requirement already satisfied: absl-py>=0.6.1 in /Users/liangqy/anaconda3/lib/python3.7/site-packages (from tf-agents-nightly) (0.8.1)\n",
      "Requirement already satisfied: tfp-nightly in /Users/liangqy/.local/lib/python3.7/site-packages (from tf-agents-nightly) (0.9.0.dev20191129)\n",
      "Requirement already satisfied: numpy>=1.13.3 in /Users/liangqy/anaconda3/lib/python3.7/site-packages (from tf-agents-nightly) (1.17.3)\n",
      "Requirement already satisfied: gin-config==0.1.3 in /Users/liangqy/.local/lib/python3.7/site-packages (from tf-agents-nightly) (0.1.3)\n",
      "Requirement already satisfied: six>=1.10.0 in /Users/liangqy/anaconda3/lib/python3.7/site-packages (from tf-agents-nightly) (1.11.0)\n",
      "Requirement already satisfied: gast>=0.2 in /Users/liangqy/anaconda3/lib/python3.7/site-packages (from tfp-nightly->tf-agents-nightly) (0.2.2)\n",
      "Requirement already satisfied: decorator in /Users/liangqy/anaconda3/lib/python3.7/site-packages (from tfp-nightly->tf-agents-nightly) (4.3.0)\n",
      "Requirement already satisfied: cloudpickle>=1.2.2 in /Users/liangqy/anaconda3/lib/python3.7/site-packages (from tfp-nightly->tf-agents-nightly) (1.2.2)\n"
     ]
    }
   ],
   "source": [
    "# Note: If you haven't installed the following dependencies, run:\n",
    "#mac 上不需要安装xvfb\n",
    "!apt-get install xvfb\n",
    "!pip install gym\n",
    "!pip install imageio\n",
    "!pip install PILLOW\n",
    "!pip install pyglet\n",
    "!pip install pyvirtualdisplay\n",
    "!pip install tf-agents-nightly\n",
    "try:\n",
    "      %%tensorflow_version 2.x\n",
    "except:\n",
    "      pass"
   ]
  },
  {
   "cell_type": "code",
   "execution_count": 6,
   "metadata": {},
   "outputs": [],
   "source": [
    "from __future__ import absolute_import, division, print_function\n",
    "\n",
    "import base64\n",
    "import imageio\n",
    "import IPython\n",
    "import matplotlib\n",
    "import matplotlib.pyplot as plt\n",
    "import PIL.Image\n",
    "import pyvirtualdisplay\n",
    "\n",
    "import tensorflow as tf\n",
    "\n",
    "from tf_agents.agents.dqn import dqn_agent\n",
    "from tf_agents.drivers import dynamic_step_driver\n",
    "from tf_agents.environments import suite_gym\n",
    "from tf_agents.environments import tf_py_environment\n",
    "from tf_agents.eval import metric_utils\n",
    "from tf_agents.metrics import tf_metrics\n",
    "from tf_agents.networks import q_network\n",
    "from tf_agents.policies import random_tf_policy\n",
    "from tf_agents.replay_buffers import tf_uniform_replay_buffer\n",
    "from tf_agents.trajectories import trajectory\n",
    "from tf_agents.utils import common\n",
    "\n",
    "\n",
    "\n",
    "tf.compat.v1.enable_v2_behavior()\n",
    "\n",
    "\n",
    "# Set up a virtual display for rendering OpenAI gym environments.\n",
    "#display = pyvirtualdisplay.Display(visible=0, size=(1400, 900)).start()"
   ]
  },
  {
   "cell_type": "code",
   "execution_count": 7,
   "metadata": {},
   "outputs": [
    {
     "data": {
      "text/plain": [
       "'2.0.0'"
      ]
     },
     "execution_count": 7,
     "metadata": {},
     "output_type": "execute_result"
    }
   ],
   "source": [
    "tf.version.VERSION"
   ]
  },
  {
   "cell_type": "markdown",
   "metadata": {},
   "source": [
    "## 超参数"
   ]
  },
  {
   "cell_type": "code",
   "execution_count": 8,
   "metadata": {},
   "outputs": [],
   "source": [
    "num_iterations = 20000 # @param {type:\"integer\"}\n",
    "\n",
    "initial_collect_steps = 1000  # @param {type:\"integer\"} \n",
    "collect_steps_per_iteration = 1  # @param {type:\"integer\"}\n",
    "replay_buffer_max_length = 100000  # @param {type:\"integer\"}\n",
    "\n",
    "batch_size = 64  # @param {type:\"integer\"}\n",
    "learning_rate = 1e-3  # @param {type:\"number\"}\n",
    "log_interval = 200  # @param {type:\"integer\"}\n",
    "\n",
    "num_eval_episodes = 10  # @param {type:\"integer\"}\n",
    "eval_interval = 1000  # @param {type:\"integer\"}"
   ]
  },
  {
   "cell_type": "markdown",
   "metadata": {},
   "source": [
    "## 环境\n",
    "\n",
    "在强化学习中，一个环境代表一个需要呗解决的任务或问题。标准的环境可以使用TF-Agent中的`tf_agents.environments`获取。TF-Agents拥有用于从OpenAI Gym、Atari和DM Control等源加载环境的套件。\n",
    "\n",
    "可以从OpenAI Gym加载CartPole的环境。"
   ]
  },
  {
   "cell_type": "code",
   "execution_count": 9,
   "metadata": {},
   "outputs": [],
   "source": [
    "env_name = 'CartPole-v0'\n",
    "env = suite_gym.load(env_name)"
   ]
  },
  {
   "cell_type": "markdown",
   "metadata": {},
   "source": [
    "您可以呈现这个环境以查看它的外观，可以看到一根自由摆动的杆系在车上。从而使手推车向左或向右移动，目标是是为了保持杆子指向上方。"
   ]
  },
  {
   "cell_type": "code",
   "execution_count": 10,
   "metadata": {},
   "outputs": [
    {
     "data": {
      "image/png": "[encoded data removed]",
      "text/plain": [
       "<PIL.Image.Image image mode=RGB size=1200x800 at 0xB3CC28C18>"
      ]
     },
     "execution_count": 10,
     "metadata": {},
     "output_type": "execute_result"
    }
   ],
   "source": [
    "#@test {\"skip\": true}\n",
    "env.reset()\n",
    "PIL.Image.fromarray(env.render())"
   ]
  },
  {
   "cell_type": "markdown",
   "metadata": {},
   "source": [
    "`environment.step`方法可以在环境中采取一个动作`action`，并且返回一个`TimeStep`元组，包含对环境的下一次观察和对行动的奖励。\n",
    "\n",
    "`time_step_spec()` 方法返回一个`TimeStep` 元组的规范。它的`observation`属性展示了观察的形状，数据的类型和值的返回。`reward` 的属性展示了关于返回值同样的信息属性。"
   ]
  },
  {
   "cell_type": "code",
   "execution_count": 11,
   "metadata": {},
   "outputs": [
    {
     "name": "stdout",
     "output_type": "stream",
     "text": [
      "Observation Spec:\n",
      "BoundedArraySpec(shape=(4,), dtype=dtype('float32'), name='observation', minimum=[-4.8000002e+00 -3.4028235e+38 -4.1887903e-01 -3.4028235e+38], maximum=[4.8000002e+00 3.4028235e+38 4.1887903e-01 3.4028235e+38])\n"
     ]
    }
   ],
   "source": [
    "print('Observation Spec:')\n",
    "print(env.time_step_spec().observation)"
   ]
  },
  {
   "cell_type": "code",
   "execution_count": 12,
   "metadata": {},
   "outputs": [
    {
     "name": "stdout",
     "output_type": "stream",
     "text": [
      "Reward Spec:\n",
      "ArraySpec(shape=(), dtype=dtype('float32'), name='reward')\n"
     ]
    }
   ],
   "source": [
    "print('Reward Spec:')\n",
    "print(env.time_step_spec().reward)"
   ]
  },
  {
   "cell_type": "markdown",
   "metadata": {},
   "source": [
    "`action_spec()`方法返回一个有效动作的shape，数据类型和允许的值。"
   ]
  },
  {
   "cell_type": "code",
   "execution_count": 13,
   "metadata": {},
   "outputs": [
    {
     "name": "stdout",
     "output_type": "stream",
     "text": [
      "Action Spec:\n",
      "BoundedArraySpec(shape=(), dtype=dtype('int64'), name='action', minimum=0, maximum=1)\n"
     ]
    }
   ],
   "source": [
    "print('Action Spec:')\n",
    "print(env.action_spec())"
   ]
  },
  {
   "cell_type": "markdown",
   "metadata": {},
   "source": [
    "Cartpole环境中\n",
    "- observation包含4个浮点数\n",
    "    - 手推车的位置和速度\n",
    "    - 杆的角度位置和速度\n",
    "- reward是一个标量的浮点数\n",
    "- action是一个标量的值\n",
    "    - 0代表左移动\n",
    "    - 1代表右移动"
   ]
  },
  {
   "cell_type": "code",
   "execution_count": 14,
   "metadata": {},
   "outputs": [
    {
     "name": "stdout",
     "output_type": "stream",
     "text": [
      "Time step:\n",
      "TimeStep(step_type=array(0, dtype=int32), reward=array(0., dtype=float32), discount=array(1., dtype=float32), observation=array([-0.04363316, -0.01385543, -0.01373725,  0.03155076], dtype=float32))\n",
      "Next time step:\n",
      "TimeStep(step_type=array(1, dtype=int32), reward=array(1., dtype=float32), discount=array(1., dtype=float32), observation=array([-0.04391026,  0.1814608 , -0.01310623, -0.26543456], dtype=float32))\n"
     ]
    }
   ],
   "source": [
    "time_step = env.reset()\n",
    "print('Time step:')\n",
    "print(time_step)\n",
    "\n",
    "action = 1\n",
    "\n",
    "next_time_step = env.step(action)\n",
    "print('Next time step:')\n",
    "print(next_time_step)"
   ]
  },
  {
   "cell_type": "markdown",
   "metadata": {},
   "source": [
    "通常会实例化两个环境:一个用于训练，另一个用于评估。"
   ]
  },
  {
   "cell_type": "code",
   "execution_count": 15,
   "metadata": {},
   "outputs": [],
   "source": [
    "train_py_env = suite_gym.load(env_name)\n",
    "eval_py_env = suite_gym.load(env_name)"
   ]
  },
  {
   "cell_type": "markdown",
   "metadata": {},
   "source": [
    "与大多数环境一样，Cartpole环境也是用纯Python编写的。使用TFPyEnvironment包装器将其转换为TensorFlow。\n",
    "\n",
    "原始环境的API使用Numpy数组。TFPyEnvironment将这些变量转换为张量，使其与Tensorflow代理和策略兼容。"
   ]
  },
  {
   "cell_type": "code",
   "execution_count": 16,
   "metadata": {},
   "outputs": [],
   "source": [
    "train_env = tf_py_environment.TFPyEnvironment(train_py_env)\n",
    "eval_env = tf_py_environment.TFPyEnvironment(eval_py_env)"
   ]
  },
  {
   "cell_type": "markdown",
   "metadata": {},
   "source": [
    "## 代理\n",
    "\n",
    "用于解决RL问题的算法由一个Agent来表示。TF-Agents提供多种agent的标准实现，包括:  \n",
    "DQN (本文使用)  \n",
    "REINFORCE  \n",
    "DDPG  \n",
    "TD3  \n",
    "PPO  \n",
    "SAC.  \n",
    "\n",
    "DQN代理可以用于任何具有离散操作空间的环境。\n",
    "DQN代理的核心是一个“QNetwork”，这是一个神经网络模型，根据环境的观察，可以学习预测所有操作的“QValues”(预期回报)。\n",
    "\n",
    "使用`tf_agents.network .q_network`创建一个`QNetwork`，传入`observation_spec`、`action_spec`和一个元组来描述模型隐藏层的数量和大小。"
   ]
  },
  {
   "cell_type": "code",
   "execution_count": 17,
   "metadata": {},
   "outputs": [],
   "source": [
    "fc_layer_params = (100,)\n",
    "\n",
    "q_net = q_network.QNetwork(\n",
    "    train_env.observation_spec(),\n",
    "    train_env.action_spec(),\n",
    "    fc_layer_params=fc_layer_params)"
   ]
  },
  {
   "cell_type": "markdown",
   "metadata": {},
   "source": [
    "现在使用的`tf_agents.agents.dqn。dqn_agent`实例化一个`DqnAgent`。除了`time_step_spec`、`action_spec`和QNetwork之外，代理构造函数还需要一个优化器(在本例中为`AdamOptimizer`)、一个损失函数和一个整数步长计数器。"
   ]
  },
  {
   "cell_type": "code",
   "execution_count": 18,
   "metadata": {},
   "outputs": [],
   "source": [
    "optimizer = tf.compat.v1.train.AdamOptimizer(learning_rate=learning_rate)\n",
    "\n",
    "train_step_counter = tf.Variable(0)\n",
    "\n",
    "agent = dqn_agent.DqnAgent(\n",
    "    train_env.time_step_spec(),\n",
    "    train_env.action_spec(),\n",
    "    q_network=q_net,\n",
    "    optimizer=optimizer,\n",
    "    td_errors_loss_fn=common.element_wise_squared_loss,\n",
    "    train_step_counter=train_step_counter)\n",
    "\n",
    "agent.initialize()"
   ]
  },
  {
   "cell_type": "markdown",
   "metadata": {},
   "source": [
    "## 策略\n",
    "\n",
    "策略定义了代理在环境中的行为方式。通常，强化学习的目标是训练底层模型，直到策略产生所需的结果。\n",
    "\n",
    "在这个教程中：\n",
    "- 期望的结果是保持杆平衡立在推车上。\n",
    "- 该策略为每个' time_step '观察返回一个操作(左或右)。\n",
    "\n",
    "agent包含了两种策略：\n",
    "-   `agent.policy` — 用于评估和部署的主要策略。\n",
    "-   `agent.collect_policy` — 用于数据收集的第二个策略。"
   ]
  },
  {
   "cell_type": "code",
   "execution_count": 19,
   "metadata": {},
   "outputs": [],
   "source": [
    "eval_policy = agent.policy\n",
    "collect_policy = agent.collect_policy"
   ]
  },
  {
   "cell_type": "markdown",
   "metadata": {},
   "source": [
    "可以独立于代理创建策略。例如，使用`tf_agents.policies.random_tf_policy` 创建一个策略，它将为每个 `time_step`随机选择一个操作。"
   ]
  },
  {
   "cell_type": "code",
   "execution_count": 20,
   "metadata": {},
   "outputs": [],
   "source": [
    "random_policy = random_tf_policy.RandomTFPolicy(train_env.time_step_spec(),\n",
    "                                                train_env.action_spec())"
   ]
  },
  {
   "cell_type": "markdown",
   "metadata": {},
   "source": [
    "要从策略获取操作，请调用`policy.action(time_step)`方法。`time_step` 包含来自环境的观察结果。这个方法返回一个`PolicyStep`，它是一个命名的元组，包含三个组件:\n",
    "\n",
    "-   `action` — 采取的动作（0或1）\n",
    "-   `state` — 用于有状态(即基于RNN的)策略\n",
    "-   `info` — 辅助数据，例如动作的日志概率"
   ]
  },
  {
   "cell_type": "code",
   "execution_count": 21,
   "metadata": {},
   "outputs": [],
   "source": [
    "example_environment = tf_py_environment.TFPyEnvironment(\n",
    "    suite_gym.load('CartPole-v0'))"
   ]
  },
  {
   "cell_type": "code",
   "execution_count": 22,
   "metadata": {},
   "outputs": [],
   "source": [
    "time_step = example_environment.reset()"
   ]
  },
  {
   "cell_type": "code",
   "execution_count": 23,
   "metadata": {},
   "outputs": [
    {
     "data": {
      "text/plain": [
       "PolicyStep(action=<tf.Tensor: id=233, shape=(1,), dtype=int64, numpy=array([1])>, state=(), info=())"
      ]
     },
     "execution_count": 23,
     "metadata": {},
     "output_type": "execute_result"
    }
   ],
   "source": [
    "random_policy.action(time_step)"
   ]
  },
  {
   "cell_type": "markdown",
   "metadata": {},
   "source": [
    "##  度量和评价\n",
    "\n",
    "评估一项策略最常用的标准是平均回报。回报是在一个环境中为一个事件运行一个策略时获得的奖励的总和。一些episodes运行，生成平均的回报。"
   ]
  },
  {
   "cell_type": "code",
   "execution_count": 24,
   "metadata": {},
   "outputs": [],
   "source": [
    "#@test {\"skip\": true}\n",
    "def compute_avg_return(environment, policy, num_episodes=10):\n",
    "\n",
    "    total_return = 0.0\n",
    "    for _ in range(num_episodes):\n",
    "\n",
    "        time_step = environment.reset()\n",
    "        episode_return = 0.0\n",
    "\n",
    "        while not time_step.is_last():\n",
    "            action_step = policy.action(time_step)\n",
    "            time_step = environment.step(action_step.action)\n",
    "            episode_return += time_step.reward\n",
    "        total_return += episode_return\n",
    "\n",
    "    avg_return = total_return / num_episodes\n",
    "    return avg_return.numpy()[0]\n",
    "\n",
    "\n",
    "# See also the metrics module for standard implementations of different metrics.\n",
    "# https://github.com/tensorflow/agents/tree/master/tf_agents/metrics"
   ]
  },
  {
   "cell_type": "markdown",
   "metadata": {},
   "source": [
    "在“random_policy”上运行此计算将显示环境中的基准性能。"
   ]
  },
  {
   "cell_type": "code",
   "execution_count": 25,
   "metadata": {},
   "outputs": [
    {
     "data": {
      "text/plain": [
       "20.4"
      ]
     },
     "execution_count": 25,
     "metadata": {},
     "output_type": "execute_result"
    }
   ],
   "source": [
    "compute_avg_return(eval_env, random_policy, num_eval_episodes)"
   ]
  },
  {
   "cell_type": "markdown",
   "metadata": {},
   "source": [
    "## 重播缓冲区\n",
    "\n",
    "重播缓冲区跟踪从环境中收集的数据。本教程使用`tf_agents.replay_buffers.tf_uniform_replay_buffer.TFUniformReplayBuffer`，因为它是最常见的。\n",
    "\n",
    "构造函数需要它将要收集的数据的规格。这可以通过使用 `collect_data_spec` 方法从代理获得。还需要批处理大小和最大缓冲区长度。"
   ]
  },
  {
   "cell_type": "code",
   "execution_count": 26,
   "metadata": {},
   "outputs": [],
   "source": [
    "replay_buffer = tf_uniform_replay_buffer.TFUniformReplayBuffer(\n",
    "    data_spec=agent.collect_data_spec,\n",
    "    batch_size=train_env.batch_size,\n",
    "    max_length=replay_buffer_max_length)"
   ]
  },
  {
   "cell_type": "markdown",
   "metadata": {},
   "source": [
    "对于大多数代理，`collect_data_spec` 是一个名为`Trajectory`的命名元组，包含观察、操作、奖励和其他项目的规范。"
   ]
  },
  {
   "cell_type": "code",
   "execution_count": 27,
   "metadata": {},
   "outputs": [
    {
     "data": {
      "text/plain": [
       "Trajectory(step_type=TensorSpec(shape=(), dtype=tf.int32, name='step_type'), observation=BoundedTensorSpec(shape=(4,), dtype=tf.float32, name='observation', minimum=array([-4.8000002e+00, -3.4028235e+38, -4.1887903e-01, -3.4028235e+38],\n",
       "      dtype=float32), maximum=array([4.8000002e+00, 3.4028235e+38, 4.1887903e-01, 3.4028235e+38],\n",
       "      dtype=float32)), action=BoundedTensorSpec(shape=(), dtype=tf.int64, name='action', minimum=array(0), maximum=array(1)), policy_info=(), next_step_type=TensorSpec(shape=(), dtype=tf.int32, name='step_type'), reward=TensorSpec(shape=(), dtype=tf.float32, name='reward'), discount=BoundedTensorSpec(shape=(), dtype=tf.float32, name='discount', minimum=array(0., dtype=float32), maximum=array(1., dtype=float32)))"
      ]
     },
     "execution_count": 27,
     "metadata": {},
     "output_type": "execute_result"
    }
   ],
   "source": [
    "agent.collect_data_spec"
   ]
  },
  {
   "cell_type": "code",
   "execution_count": 28,
   "metadata": {},
   "outputs": [
    {
     "data": {
      "text/plain": [
       "('step_type',\n",
       " 'observation',\n",
       " 'action',\n",
       " 'policy_info',\n",
       " 'next_step_type',\n",
       " 'reward',\n",
       " 'discount')"
      ]
     },
     "execution_count": 28,
     "metadata": {},
     "output_type": "execute_result"
    }
   ],
   "source": [
    "agent.collect_data_spec._fields"
   ]
  },
  {
   "cell_type": "markdown",
   "metadata": {},
   "source": [
    "## 数据收集\n",
    "\n",
    "现在，在环境中执行随机策略几个步骤，将数据记录在回放缓冲区中。"
   ]
  },
  {
   "cell_type": "code",
   "execution_count": 29,
   "metadata": {},
   "outputs": [],
   "source": [
    "#@test {\"skip\": true}\n",
    "def collect_step(environment, policy, buffer):\n",
    "    time_step = environment.current_time_step()\n",
    "    action_step = policy.action(time_step)\n",
    "    next_time_step = environment.step(action_step.action)\n",
    "    traj = trajectory.from_transition(time_step, action_step, next_time_step)\n",
    "\n",
    "    # Add trajectory to the replay buffer\n",
    "    buffer.add_batch(traj)\n",
    "\n",
    "\n",
    "def collect_data(env, policy, buffer, steps):\n",
    "    for _ in range(steps):\n",
    "        collect_step(env, policy, buffer)\n",
    "\n",
    "\n",
    "collect_data(train_env, random_policy, replay_buffer, steps=100)\n",
    "\n",
    "# This loop is so common in RL, that we provide standard implementations.\n",
    "# For more details see the drivers module.\n",
    "# https://github.com/tensorflow/agents/blob/master/tf_agents/docs/python/tf_agents/drivers.md"
   ]
  },
  {
   "cell_type": "markdown",
   "metadata": {},
   "source": [
    "重播缓冲区现在是轨迹（Trajectories）的集合。"
   ]
  },
  {
   "cell_type": "code",
   "execution_count": 30,
   "metadata": {},
   "outputs": [],
   "source": [
    "# For the curious:\n",
    "# Uncomment to peel one of these off and inspect it.\n",
    "# iter(replay_buffer.as_dataset()).next()"
   ]
  },
  {
   "cell_type": "markdown",
   "metadata": {},
   "source": [
    "代理需要访问重播缓冲区。这是通过创建一个可迭代`tf.data.Dataset`的管道实现，它将数据提供给代理。\n",
    "\n",
    "重播缓冲区的每一行只存储一个观察步骤。但是，由于DQN代理需要当前和下一个观察值来计算损失，因此数据集管道将为批处理中的每个项目采样两个相邻行(`num_steps=2`)。\n",
    "\n",
    "这个数据集还通过运行并行调用和预取数据进行了优化。"
   ]
  },
  {
   "cell_type": "code",
   "execution_count": 31,
   "metadata": {},
   "outputs": [
    {
     "data": {
      "text/plain": [
       "<DatasetV1Adapter shapes: (Trajectory(step_type=(64, 2), observation=(64, 2, 4), action=(64, 2), policy_info=(), next_step_type=(64, 2), reward=(64, 2), discount=(64, 2)), BufferInfo(ids=(64, 2), probabilities=(64,))), types: (Trajectory(step_type=tf.int32, observation=tf.float32, action=tf.int64, policy_info=(), next_step_type=tf.int32, reward=tf.float32, discount=tf.float32), BufferInfo(ids=tf.int64, probabilities=tf.float32))>"
      ]
     },
     "execution_count": 31,
     "metadata": {},
     "output_type": "execute_result"
    }
   ],
   "source": [
    "# Dataset generates trajectories with shape [Bx2x...]\n",
    "dataset = replay_buffer.as_dataset(\n",
    "    num_parallel_calls=3, \n",
    "    sample_batch_size=batch_size, \n",
    "    num_steps=2).prefetch(3)\n",
    "\n",
    "\n",
    "dataset"
   ]
  },
  {
   "cell_type": "code",
   "execution_count": 32,
   "metadata": {},
   "outputs": [
    {
     "name": "stdout",
     "output_type": "stream",
     "text": [
      "<tensorflow.python.data.ops.iterator_ops.IteratorV2 object at 0xb3e483da0>\n"
     ]
    }
   ],
   "source": [
    "iterator = iter(dataset)\n",
    "\n",
    "print(iterator)"
   ]
  },
  {
   "cell_type": "code",
   "execution_count": 33,
   "metadata": {},
   "outputs": [],
   "source": [
    "# For the curious:\n",
    "# Uncomment to see what the dataset iterator is feeding to the agent.\n",
    "# Compare this representation of replay data \n",
    "# to the collection of individual trajectories shown earlier.\n",
    "\n",
    "# iterator.next()"
   ]
  },
  {
   "cell_type": "markdown",
   "metadata": {},
   "source": [
    "## 代理的训练"
   ]
  },
  {
   "cell_type": "markdown",
   "metadata": {},
   "source": [
    "在训练循环中必须发生两件事:\n",
    "- 从环境中收集数据\n",
    "- 使用这些数据训练代理的神经网络\n",
    "\n",
    "此示例还以周期方式计算策略并打印当前得分。\n",
    "\n",
    "以下内容大约需要5分钟才能完成。\n"
   ]
  },
  {
   "cell_type": "code",
   "execution_count": 34,
   "metadata": {},
   "outputs": [
    {
     "name": "stdout",
     "output_type": "stream",
     "text": [
      "CPU times: user 2 µs, sys: 1 µs, total: 3 µs\n",
      "Wall time: 5.96 µs\n",
      "step = 200: loss = 9.930360794067383\n",
      "step = 400: loss = 5.638720989227295\n",
      "step = 600: loss = 42.766502380371094\n",
      "step = 800: loss = 42.544334411621094\n",
      "step = 1000: loss = 46.931732177734375\n",
      "step = 1000: Average Return = 33.900001525878906\n",
      "step = 1200: loss = 96.28790283203125\n",
      "step = 1400: loss = 67.91851043701172\n",
      "step = 1600: loss = 152.1636505126953\n",
      "step = 1800: loss = 30.028230667114258\n",
      "step = 2000: loss = 25.912151336669922\n",
      "step = 2000: Average Return = 47.0\n",
      "step = 2200: loss = 113.5461196899414\n",
      "step = 2400: loss = 113.31079864501953\n",
      "step = 2600: loss = 26.686159133911133\n",
      "step = 2800: loss = 94.20877075195312\n",
      "step = 3000: loss = 118.86286163330078\n",
      "step = 3000: Average Return = 69.80000305175781\n",
      "step = 3200: loss = 51.10574722290039\n",
      "step = 3400: loss = 4.404625415802002\n",
      "step = 3600: loss = 69.44332885742188\n",
      "step = 3800: loss = 58.845252990722656\n",
      "step = 4000: loss = 65.97916412353516\n",
      "step = 4000: Average Return = 94.19999694824219\n",
      "step = 4200: loss = 97.12580871582031\n",
      "step = 4400: loss = 268.0107727050781\n",
      "step = 4600: loss = 57.73379135131836\n",
      "step = 4800: loss = 103.90182495117188\n",
      "step = 5000: loss = 211.10586547851562\n",
      "step = 5000: Average Return = 116.19999694824219\n",
      "step = 5200: loss = 69.82632446289062\n",
      "step = 5400: loss = 113.9209976196289\n",
      "step = 5600: loss = 35.69431686401367\n",
      "step = 5800: loss = 423.3566589355469\n",
      "step = 6000: loss = 196.74864196777344\n",
      "step = 6000: Average Return = 144.10000610351562\n",
      "step = 6200: loss = 43.52638244628906\n",
      "step = 6400: loss = 136.61366271972656\n",
      "step = 6600: loss = 53.39093780517578\n",
      "step = 6800: loss = 178.43312072753906\n",
      "step = 7000: loss = 75.85243225097656\n",
      "step = 7000: Average Return = 142.6999969482422\n",
      "step = 7200: loss = 80.25102233886719\n",
      "step = 7400: loss = 10.31981372833252\n",
      "step = 7600: loss = 66.38850402832031\n",
      "step = 7800: loss = 98.13744354248047\n",
      "step = 8000: loss = 8.582523345947266\n",
      "step = 8000: Average Return = 200.0\n",
      "step = 8200: loss = 21.11874008178711\n",
      "step = 8400: loss = 7.4886250495910645\n",
      "step = 8600: loss = 870.7265625\n",
      "step = 8800: loss = 208.9394073486328\n",
      "step = 9000: loss = 701.7562255859375\n",
      "step = 9000: Average Return = 200.0\n",
      "step = 9200: loss = 13.021478652954102\n",
      "step = 9400: loss = 25.084579467773438\n",
      "step = 9600: loss = 287.8741455078125\n",
      "step = 9800: loss = 20.884220123291016\n",
      "step = 10000: loss = 238.06781005859375\n",
      "step = 10000: Average Return = 200.0\n",
      "step = 10200: loss = 37.92737579345703\n",
      "step = 10400: loss = 17.23676300048828\n",
      "step = 10600: loss = 23.953487396240234\n",
      "step = 10800: loss = 158.95065307617188\n",
      "step = 11000: loss = 19.080923080444336\n",
      "step = 11000: Average Return = 200.0\n",
      "step = 11200: loss = 37.15235137939453\n",
      "step = 11400: loss = 1296.3021240234375\n",
      "step = 11600: loss = 37.821048736572266\n",
      "step = 11800: loss = 41.20735549926758\n",
      "step = 12000: loss = 113.92475128173828\n",
      "step = 12000: Average Return = 200.0\n",
      "step = 12200: loss = 929.5726318359375\n",
      "step = 12400: loss = 30.480562210083008\n",
      "step = 12600: loss = 39.57149887084961\n",
      "step = 12800: loss = 525.6129150390625\n",
      "step = 13000: loss = 36.999549865722656\n",
      "step = 13000: Average Return = 200.0\n",
      "step = 13200: loss = 1847.8575439453125\n",
      "step = 13400: loss = 1958.322021484375\n",
      "step = 13600: loss = 24.555744171142578\n",
      "step = 13800: loss = 30.659034729003906\n",
      "step = 14000: loss = 3114.49609375\n",
      "step = 14000: Average Return = 200.0\n",
      "step = 14200: loss = 31.193584442138672\n",
      "step = 14400: loss = 964.93896484375\n",
      "step = 14600: loss = 794.1834106445312\n",
      "step = 14800: loss = 39.05678176879883\n",
      "step = 15000: loss = 4669.7490234375\n",
      "step = 15000: Average Return = 200.0\n",
      "step = 15200: loss = 36.1428108215332\n",
      "step = 15400: loss = 36.65513610839844\n",
      "step = 15600: loss = 43.047332763671875\n",
      "step = 15800: loss = 85.52136993408203\n",
      "step = 16000: loss = 28.594141006469727\n",
      "step = 16000: Average Return = 200.0\n",
      "step = 16200: loss = 114.23104858398438\n",
      "step = 16400: loss = 45.1954460144043\n",
      "step = 16600: loss = 44.092323303222656\n",
      "step = 16800: loss = 78.02227020263672\n",
      "step = 17000: loss = 45.61175537109375\n",
      "step = 17000: Average Return = 200.0\n",
      "step = 17200: loss = 3253.94970703125\n",
      "step = 17400: loss = 29.687149047851562\n",
      "step = 17600: loss = 57.2279167175293\n",
      "step = 17800: loss = 46.4836540222168\n",
      "step = 18000: loss = 94.88241577148438\n",
      "step = 18000: Average Return = 200.0\n",
      "step = 18200: loss = 61.23689270019531\n",
      "step = 18400: loss = 52.19392395019531\n",
      "step = 18600: loss = 75.18373107910156\n",
      "step = 18800: loss = 35.642356872558594\n",
      "step = 19000: loss = 49.38005065917969\n",
      "step = 19000: Average Return = 200.0\n",
      "step = 19200: loss = 6491.74609375\n",
      "step = 19400: loss = 41.86752700805664\n",
      "step = 19600: loss = 120.29950714111328\n",
      "step = 19800: loss = 131.55731201171875\n",
      "step = 20000: loss = 1660.517333984375\n",
      "step = 20000: Average Return = 200.0\n"
     ]
    }
   ],
   "source": [
    "#@test {\"skip\": true}\n",
    "%time\n",
    "\n",
    "# (Optional) Optimize by wrapping some of the code in a graph using TF function.\n",
    "agent.train = common.function(agent.train)\n",
    "\n",
    "# Reset the train step\n",
    "agent.train_step_counter.assign(0)\n",
    "\n",
    "# Evaluate the agent's policy once before training.\n",
    "avg_return = compute_avg_return(eval_env, agent.policy, num_eval_episodes)\n",
    "returns = [avg_return]\n",
    "\n",
    "for _ in range(num_iterations):\n",
    "\n",
    "    # Collect a few steps using collect_policy and save to the replay buffer.\n",
    "    for _ in range(collect_steps_per_iteration):\n",
    "        collect_step(train_env, agent.collect_policy, replay_buffer)\n",
    "\n",
    "    # Sample a batch of data from the buffer and update the agent's network.\n",
    "    experience, unused_info = next(iterator)\n",
    "    train_loss = agent.train(experience).loss\n",
    "\n",
    "    step = agent.train_step_counter.numpy()\n",
    "\n",
    "    if step % log_interval == 0:\n",
    "        print('step = {0}: loss = {1}'.format(step, train_loss))\n",
    "\n",
    "    if step % eval_interval == 0:\n",
    "        avg_return = compute_avg_return(eval_env, agent.policy,\n",
    "                                        num_eval_episodes)\n",
    "        print('step = {0}: Average Return = {1}'.format(step, avg_return))\n",
    "        returns.append(avg_return)"
   ]
  },
  {
   "cell_type": "markdown",
   "metadata": {},
   "source": [
    "## 可视化\n",
    "\n",
    "\n"
   ]
  },
  {
   "cell_type": "markdown",
   "metadata": {},
   "source": [
    "### Plots\n",
    "使用`matplotlib.pyplot`来绘制训练期间策略如何改进的图表。\n",
    "\n",
    "“Cartpole-v0”的一次迭代包含200个时间步长。环境会给每一步“+1”的奖励，所以每一个episode的最高回报是200。图表显示，每次在训练中评估时，回报都朝着这个最大值增长。(可能有一点不稳定，不是每次都单调增加。)"
   ]
  },
  {
   "cell_type": "code",
   "execution_count": 36,
   "metadata": {},
   "outputs": [
    {
     "data": {
      "text/plain": [
       "(-0.8650002002716075, 250)"
      ]
     },
     "execution_count": 36,
     "metadata": {},
     "output_type": "execute_result"
    },
    {
     "data": {
      "image/png": "[encoded data removed]",
      "text/plain": [
       "<Figure size 432x288 with 1 Axes>"
      ]
     },
     "metadata": {
      "needs_background": "light"
     },
     "output_type": "display_data"
    }
   ],
   "source": [
    "#@test {\"skip\": true}\n",
    "\n",
    "iterations = range(0, num_iterations + 1, eval_interval)\n",
    "plt.plot(iterations, returns)\n",
    "plt.ylabel('Average Return')\n",
    "plt.xlabel('Iterations')\n",
    "plt.ylim(top=250)"
   ]
  },
  {
   "cell_type": "markdown",
   "metadata": {},
   "source": [
    "### 视频"
   ]
  },
  {
   "cell_type": "markdown",
   "metadata": {},
   "source": [
    "图表很好。但是更令人兴奋的是看到一个代理在一个环境中实际执行一个任务。\n",
    "\n",
    "首先，创建一个函数将视频嵌入到笔记本中。"
   ]
  },
  {
   "cell_type": "code",
   "execution_count": 35,
   "metadata": {},
   "outputs": [],
   "source": [
    "def embed_mp4(filename):\n",
    "    \"\"\"Embeds an mp4 file in the notebook.\"\"\"\n",
    "    video = open(filename, 'rb').read()\n",
    "    b64 = base64.b64encode(video)\n",
    "    tag = '''\n",
    "  <video width=\"640\" height=\"480\" controls>\n",
    "    <source src=\"data:video/mp4;base64,{0}\" type=\"video/mp4\">\n",
    "  Your browser does not support the video tag.\n",
    "  </video>'''.format(b64.decode())\n",
    "\n",
    "    return IPython.display.HTML(tag)"
   ]
  },
  {
   "cell_type": "markdown",
   "metadata": {},
   "source": [
    "现在用代理遍历几个episodes的Cartpole游戏。底层的Python环境(TensorFlow环境包装器“内部”的环境)提供了一个“render()”方法，该方法输出环境状态的图像。这些可以收集成一个视频。"
   ]
  },
  {
   "cell_type": "code",
   "execution_count": 37,
   "metadata": {},
   "outputs": [
    {
     "data": {
      "text/html": [
       "\n",
       "  <video width=\"640\" height=\"480\" controls>\n",
       "    <source src=\"data:video/mp4;base64,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\" type=\"video/mp4\">\n",
       "  Your browser does not support the video tag.\n",
       "  </video>"
      ],
      "text/plain": [
       "<IPython.core.display.HTML object>"
      ]
     },
     "execution_count": 37,
     "metadata": {},
     "output_type": "execute_result"
    }
   ],
   "source": [
    "def create_policy_eval_video(policy, filename, num_episodes=5, fps=30):\n",
    "    filename = filename + \".mp4\"\n",
    "    with imageio.get_writer(filename, fps=fps) as video:\n",
    "        for _ in range(num_episodes):\n",
    "            time_step = eval_env.reset()\n",
    "            video.append_data(eval_py_env.render())\n",
    "            while not time_step.is_last():\n",
    "                action_step = policy.action(time_step)\n",
    "                time_step = eval_env.step(action_step.action)\n",
    "                video.append_data(eval_py_env.render())\n",
    "    return embed_mp4(filename)\n",
    "\n",
    "\n",
    "create_policy_eval_video(agent.policy, \"trained-agent\")"
   ]
  },
  {
   "cell_type": "markdown",
   "metadata": {},
   "source": [
    "为了好玩，将训练好的代理(如上)与随机移动的代理进行比较。(它做得并不好。)"
   ]
  },
  {
   "cell_type": "code",
   "execution_count": 38,
   "metadata": {},
   "outputs": [
    {
     "data": {
      "text/html": [
       "\n",
       "  <video width=\"640\" height=\"480\" controls>\n",
       "    <source src=\"data:video/mp4;base64,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\" type=\"video/mp4\">\n",
       "  Your browser does not support the video tag.\n",
       "  </video>"
      ],
      "text/plain": [
       "<IPython.core.display.HTML object>"
      ]
     },
     "execution_count": 38,
     "metadata": {},
     "output_type": "execute_result"
    }
   ],
   "source": [
    "create_policy_eval_video(random_policy, \"random-agent\")"
   ]
  }
 ],
 "metadata": {
  "hide_input": false,
  "kernelspec": {
   "display_name": "Python 3",
   "language": "python",
   "name": "python3"
  },
  "language_info": {
   "codemirror_mode": {
    "name": "ipython",
    "version": 3
   },
   "file_extension": ".py",
   "mimetype": "text/x-python",
   "name": "python",
   "nbconvert_exporter": "python",
   "pygments_lexer": "ipython3",
   "version": "3.7.0"
  },
  "latex_envs": {
   "LaTeX_envs_menu_present": true,
   "autoclose": true,
   "autocomplete": true,
   "bibliofile": "biblio.bib",
   "cite_by": "apalike",
   "current_citInitial": 1,
   "eqLabelWithNumbers": true,
   "eqNumInitial": 1,
   "hotkeys": {
    "equation": "Ctrl-E",
    "itemize": "Ctrl-I"
   },
   "labels_anchors": false,
   "latex_user_defs": false,
   "report_style_numbering": false,
   "user_envs_cfg": false
  },
  "toc": {
   "base_numbering": 1,
   "nav_menu": {},
   "number_sections": true,
   "sideBar": true,
   "skip_h1_title": false,
   "title_cell": "Table of Contents",
   "title_sidebar": "Contents",
   "toc_cell": false,
   "toc_position": {
    "height": "calc(100% - 180px)",
    "left": "10px",
    "top": "150px",
    "width": "186.390625px"
   },
   "toc_section_display": true,
   "toc_window_display": true
  },
  "varInspector": {
   "cols": {
    "lenName": 16,
    "lenType": 16,
    "lenVar": 40
   },
   "kernels_config": {
    "python": {
     "delete_cmd_postfix": "",
     "delete_cmd_prefix": "del ",
     "library": "var_list.py",
     "varRefreshCmd": "print(var_dic_list())"
    },
    "r": {
     "delete_cmd_postfix": ") ",
     "delete_cmd_prefix": "rm(",
     "library": "var_list.r",
     "varRefreshCmd": "cat(var_dic_list()) "
    }
   },
   "types_to_exclude": [
    "module",
    "function",
    "builtin_function_or_method",
    "instance",
    "_Feature"
   ],
   "window_display": false
  }
 },
 "nbformat": 4,
 "nbformat_minor": 2
}
